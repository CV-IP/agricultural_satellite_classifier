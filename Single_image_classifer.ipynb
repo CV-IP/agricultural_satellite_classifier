{
  "nbformat": 4,
  "nbformat_minor": 0,
  "metadata": {
    "colab": {
      "name": "Single_image_classifer.ipynb",
      "provenance": [],
      "authorship_tag": "ABX9TyPqpZkdOA/kr/SEXloWv7P2",
      "include_colab_link": true
    },
    "kernelspec": {
      "name": "python3",
      "display_name": "Python 3"
    }
  },
  "cells": [
    {
      "cell_type": "markdown",
      "metadata": {
        "id": "view-in-github",
        "colab_type": "text"
      },
      "source": [
        "<a href=\"https://colab.research.google.com/github/dapsavoie/agricultural_satellite_classifier/blob/master/Single_image_classifer.ipynb\" target=\"_parent\"><img src=\"https://colab.research.google.com/assets/colab-badge.svg\" alt=\"Open In Colab\"/></a>"
      ]
    },
    {
      "cell_type": "code",
      "metadata": {
        "id": "66_UY2hX1kqD",
        "colab_type": "code",
        "outputId": "a05dbda4-c90c-4058-bab9-57dbbb64d092",
        "colab": {
          "base_uri": "https://localhost:8080/",
          "height": 34
        }
      },
      "source": [
        "from google.colab import drive\n",
        "drive.mount('/content/drive/')"
      ],
      "execution_count": 70,
      "outputs": [
        {
          "output_type": "stream",
          "text": [
            "Drive already mounted at /content/drive/; to attempt to forcibly remount, call drive.mount(\"/content/drive/\", force_remount=True).\n"
          ],
          "name": "stdout"
        }
      ]
    },
    {
      "cell_type": "code",
      "metadata": {
        "id": "x8puZWphqiRn",
        "colab_type": "code",
        "colab": {}
      },
      "source": [
        "import pandas as pd \n",
        "import keras \n",
        "\n",
        "from keras.models import load_model \n",
        "from keras.preprocessing.image import ImageDataGenerator\n",
        "\n",
        "from keras.preprocessing import image\n",
        "\n",
        "import os \n",
        "\n",
        "import numpy as np "
      ],
      "execution_count": 0,
      "outputs": []
    },
    {
      "cell_type": "code",
      "metadata": {
        "id": "UpjF7569sSG1",
        "colab_type": "code",
        "colab": {}
      },
      "source": [
        "val_df = pd.read_csv(r'/content/drive/My Drive/agri_vision/Agriculture-Vision/val_encoded.csv')\n",
        "val_df.drop(columns='Unnamed: 0', inplace=True)\n",
        "#strip train index\n",
        "val_df['index'] = val_df['index'].str.rstrip('.png')\n",
        "val_df['index'] = val_df['index'] + '.jpg'\n",
        "columns = ['cloud_shadow', 'double_planter', 'planter_skip', 'standing_water', 'waterway', 'weed_cluster']"
      ],
      "execution_count": 0,
      "outputs": []
    },
    {
      "cell_type": "code",
      "metadata": {
        "id": "uTfmeRqjsKQQ",
        "colab_type": "code",
        "colab": {}
      },
      "source": [
        "model_2 = load_model('/content/drive/My Drive/agri_vision/Agriculture-Vision/adam_78.h5')"
      ],
      "execution_count": 0,
      "outputs": []
    },
    {
      "cell_type": "code",
      "metadata": {
        "id": "xmTmL-w44KAc",
        "colab_type": "code",
        "outputId": "ffae72d9-4563-4dbb-dbf4-20127504c6bf",
        "colab": {
          "base_uri": "https://localhost:8080/",
          "height": 67
        }
      },
      "source": [
        "from PIL import Image\n",
        "import numpy as np\n",
        "from skimage import transform\n",
        "from keras.preprocessing import image\n",
        "\n",
        "\n",
        "def load(filename):\n",
        "   np_image = Image.open(filename)\n",
        "   np_image = np.array(np_image).astype('float32')/255\n",
        "   np_image = transform.resize(np_image, (256, 256, 3))\n",
        "   np_image = np.expand_dims(np_image, axis=0)\n",
        "   return np_image\n",
        "\n",
        "image = load('/content/drive/My Drive/agri_vision/Agriculture-Vision/test/test_rgb/1FPBNGD9F_751-8269-1263-8781.jpg')\n",
        "proba = model_2.predict(image)\n",
        "\n",
        "top_3 = np.argsort(proba[0])[:-4:-1]\n",
        "\n",
        "import matplotlib.pyplot as plt\n",
        "\n",
        "for i in range(3):\n",
        "    print(\"{}\".format(classes[top_3[i]])+\" ({:.3})\".format(proba[0][top_3[i]]))"
      ],
      "execution_count": 85,
      "outputs": [
        {
          "output_type": "stream",
          "text": [
            "double_planter (0.824)\n",
            "weed_cluster (0.0443)\n",
            "standing_water (0.0193)\n"
          ],
          "name": "stdout"
        }
      ]
    },
    {
      "cell_type": "code",
      "metadata": {
        "id": "J-VCk-HtbCwc",
        "colab_type": "code",
        "colab": {}
      },
      "source": [
        ""
      ],
      "execution_count": 0,
      "outputs": []
    }
  ]
}